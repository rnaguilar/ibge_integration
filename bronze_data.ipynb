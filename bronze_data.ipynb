{
 "cells": [
  {
   "cell_type": "markdown",
   "id": "70c19eb0",
   "metadata": {},
   "source": [
    "# Instanciar Spark"
   ]
  },
  {
   "cell_type": "code",
   "execution_count": 1,
   "id": "86f9578d",
   "metadata": {},
   "outputs": [],
   "source": [
    "import pyspark.sql.functions as f\n",
    "from pyspark.sql.functions import col, from_json , explode, expr\n",
    "from pyspark.sql.types import StructType, StructField, StringType, IntegerType, DoubleType\n",
    "from pyspark.sql import SparkSession\n",
    "from sqlalchemy import create_engine\n",
    "import pandas as pd\n",
    "import os\n",
    "\n",
    "import requests, json\n",
    "\n",
    "PATH = \"C:\\\\PROJETOS\\\\ibge_integration\\\\RAW_DATA\\\\\" # SUBSTITUA UM PATH PARA UM DE SUA PREFERENCIA OU UM BUCKET\n",
    "PATH = \"E:\\\\AMBIENTE DEV\\\\PROJETOS\\\\ibge_integration\\\\RAW_DATA\\\\\" # SUBSTITUA UM PATH PARA UM DE SUA PREFERENCIA OU UM BUCKET\n",
    "\n",
    "\n",
    "spark_session = SparkSession.builder \\\n",
    "    .appName(\"Ibge\") \\\n",
    "    .config(\"spark.master\", \"local[*]\") \\\n",
    "    .config(\"spark.jars.packages\", \"org.postgresql:postgresql:42.7.1\") \\\n",
    "    .config(\"spark.executor.instances\", \"3\") \\\n",
    "    .getOrCreate()"
   ]
  },
  {
   "cell_type": "markdown",
   "id": "ce5e5f84",
   "metadata": {},
   "source": [
    "# SQL CONNECTION"
   ]
  },
  {
   "cell_type": "code",
   "execution_count": 2,
   "id": "c85383ba",
   "metadata": {},
   "outputs": [],
   "source": [
    "# Configurações de conexão com o PostgreSQL\n",
    "# Este item é totalmente editavel, para uma conexão de sua preferencia (Vamos fazer conforme o docker-compose que subimos)\n",
    "url_database = \"jdbc:postgresql://localhost:8085/bronze_data\"\n",
    "properties = {\"user\": \"ibge\", \"password\": \"ibge\", \"driver\": \"org.postgresql.Driver\"}\n",
    "\n",
    "# engine = create_engine(url_database)"
   ]
  },
  {
   "cell_type": "markdown",
   "id": "e74c9cd3",
   "metadata": {},
   "source": [
    "# BRONZE DATA - (Região, Estado e Municipio)"
   ]
  },
  {
   "cell_type": "code",
   "execution_count": 139,
   "id": "0d6ea3ab-bfb1-40ab-872c-a167949231e2",
   "metadata": {},
   "outputs": [],
   "source": [
    "# LER O PARQUE DE REGIÕES E GRAVAR NO BANCO\n",
    "\n",
    "df_regions = spark_session.read.parquet(f\"{PATH}\\\\regioes.parquet\")\n",
    "df_regions = df_regions.withColumnRenamed(\"id\", \"id_regiao\").withColumnRenamed(\"nome\", \"regiao\")\n",
    "\n",
    "# Escreve os dados no PostgreSQL usando SQL Alchemy e JDBC\n",
    "df_regions.write \\\n",
    "    .jdbc(url=url_database, table=\"regiao\", mode=\"overwrite\", properties=properties)"
   ]
  },
  {
   "cell_type": "code",
   "execution_count": 6,
   "id": "4a074f04",
   "metadata": {},
   "outputs": [],
   "source": [
    "# LER O PARQUE DE ESTADO E GRAVAR NO BANCO\n",
    "\n",
    "df_state = spark_session.read.parquet(f\"{PATH}\\\\estados.parquet\")\n",
    "\n",
    "df_state = df_state.withColumnRenamed(\"id\",\"id_estado\").withColumnRenamed(\"sigla\",\"uf\").withColumnRenamed(\"nome\",\"estado\")\n",
    "\n",
    "\n",
    "\n",
    "# Escreve os dados no PostgreSQL \n",
    "df_state.select(\n",
    "    'id_estado',\n",
    "    'uf',\n",
    "    'estado',\n",
    "    col('regiao.id').alias('id_regiao')\n",
    "    ).write \\\n",
    "    .jdbc(url=url_database, table=\"estado\", mode=\"overwrite\", properties=properties)"
   ]
  },
  {
   "cell_type": "code",
   "execution_count": 141,
   "id": "98b6df5b",
   "metadata": {},
   "outputs": [],
   "source": [
    "# LER O PARQUE DE MUNICIPIO E GRAVAR NO BANCO\n",
    "\n",
    "df_substate = spark_session.read.parquet(f\"{PATH}\\\\municipios.parquet\")\n",
    "\n",
    "df_substate = df_substate.withColumnRenamed(\"ibge\", \"id_municipio\").withColumnRenamed(\"nome\", \"municipio\")\n",
    "\n",
    "# Escreve os dados no PostgreSQL \n",
    "df_substate.write \\\n",
    "    .jdbc(url=url_database, table=\"municipios\", mode=\"overwrite\", properties=properties)"
   ]
  },
  {
   "cell_type": "code",
   "execution_count": 14,
   "id": "162e7a51",
   "metadata": {},
   "outputs": [],
   "source": [
    "# LE UM CSV COM AS CAPITAIS\n",
    "df_capital = spark_session.read.csv(f\"{PATH}\\\\capital.csv\", header=True, inferSchema=True, sep=\";\", encoding=\"ISO-8859-1\")\n",
    "\n",
    "df_capital = df_capital.select(\n",
    "    col(\"Estados\").alias(\"estado\"),\n",
    "    col(\"Capital\").alias(\"capital\"),\n",
    "    col(\"Sigla\").alias(\"uf\")\n",
    ")\n",
    "\n",
    "# Escreve os dados no PostgreSQL \n",
    "df_capital.write \\\n",
    "    .jdbc(url=url_database, table=\"capitais\", mode=\"overwrite\", properties=properties)\n"
   ]
  },
  {
   "cell_type": "markdown",
   "id": "1f2e50b3",
   "metadata": {},
   "source": [
    "# PESQUISAS"
   ]
  },
  {
   "cell_type": "code",
   "execution_count": 142,
   "id": "3b2ae729",
   "metadata": {},
   "outputs": [
    {
     "name": "stdout",
     "output_type": "stream",
     "text": [
      "351\n"
     ]
    }
   ],
   "source": [
    "# LER A PESQUISA IDH\n",
    "\n",
    "subfolder = 'idh'\n",
    "pathstring = f'{PATH}\\\\{subfolder}\\\\'\n",
    "\n",
    "\n",
    "# Lista todos os arquivos Parquet na pasta\n",
    "arquivos_parquet = [os.path.join(pathstring, arquivo) for arquivo in os.listdir(pathstring) if arquivo.endswith(\".parquet\")]\n",
    "\n",
    "# Lê todos os arquivos Parquet e cria um DataFrame único\n",
    "df_idh = spark_session.read.parquet(*arquivos_parquet)\n",
    "\n",
    "print(df_idh.count())\n",
    "\n",
    "\n",
    "# Escreve os dados no PostgreSQL \n",
    "df_idh.write \\\n",
    "    .jdbc(url=url_database, table=\"pesquisas_idh\", mode=\"overwrite\", properties=properties)\n"
   ]
  },
  {
   "cell_type": "code",
   "execution_count": 143,
   "id": "ee89d8dc-0fb3-4bcf-b91d-7f544544c21b",
   "metadata": {},
   "outputs": [
    {
     "name": "stdout",
     "output_type": "stream",
     "text": [
      "22280\n"
     ]
    }
   ],
   "source": [
    "# LER A PESQUISA PIB\n",
    "\n",
    "subfolder = 'pib'\n",
    "pathstring = f'{PATH}\\\\{subfolder}\\\\'\n",
    "\n",
    "\n",
    "# Lista todos os arquivos Parquet na pasta\n",
    "arquivos_parquet = [os.path.join(pathstring, arquivo) for arquivo in os.listdir(pathstring) if arquivo.endswith(\".parquet\")]\n",
    "\n",
    "# Lê todos os arquivos Parquet e cria um DataFrame único\n",
    "df_pib = spark_session.read.parquet(*arquivos_parquet)\n",
    "\n",
    "print(df_pib.count())\n",
    "\n",
    "\n",
    "# Escreve os dados no PostgreSQL \n",
    "df_pib.write \\\n",
    "    .jdbc(url=url_database, table=\"pesquisas_pib\", mode=\"overwrite\", properties=properties)"
   ]
  },
  {
   "cell_type": "code",
   "execution_count": 144,
   "id": "7da358ad-51b6-4bc3-8f24-bceae1bd8fa6",
   "metadata": {},
   "outputs": [
    {
     "name": "stdout",
     "output_type": "stream",
     "text": [
      "22280\n"
     ]
    }
   ],
   "source": [
    "# LER A PESQUISA POPUPACAO\n",
    "\n",
    "subfolder = 'populacao'\n",
    "pathstring = f'{PATH}\\\\{subfolder}\\\\'\n",
    "\n",
    "\n",
    "# Lista todos os arquivos Parquet na pasta\n",
    "arquivos_parquet = [os.path.join(pathstring, arquivo) for arquivo in os.listdir(pathstring) if arquivo.endswith(\".parquet\")]\n",
    "\n",
    "# Lê todos os arquivos Parquet e cria um DataFrame único\n",
    "df_populacao = spark_session.read.parquet(*arquivos_parquet)\n",
    "\n",
    "print(df_populacao.count())\n",
    "# Escreve os dados no PostgreSQL \n",
    "df_populacao.write \\\n",
    "    .jdbc(url=url_database, table=\"pesquisas_populacao\", mode=\"overwrite\", properties=properties)"
   ]
  }
 ],
 "metadata": {
  "kernelspec": {
   "display_name": "Python 3 (ipykernel)",
   "language": "python",
   "name": "python3"
  },
  "language_info": {
   "codemirror_mode": {
    "name": "ipython",
    "version": 3
   },
   "file_extension": ".py",
   "mimetype": "text/x-python",
   "name": "python",
   "nbconvert_exporter": "python",
   "pygments_lexer": "ipython3",
   "version": "3.12.1"
  }
 },
 "nbformat": 4,
 "nbformat_minor": 5
}
