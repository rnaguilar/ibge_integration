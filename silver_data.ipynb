{
 "cells": [
  {
   "cell_type": "markdown",
   "id": "70c19eb0",
   "metadata": {},
   "source": [
    "# Instanciar Spark"
   ]
  },
  {
   "cell_type": "code",
   "execution_count": 35,
   "id": "86f9578d",
   "metadata": {},
   "outputs": [],
   "source": [
    "import pyspark.sql.functions as f\n",
    "from pyspark.sql.functions import col, from_json , explode, expr, lit\n",
    "from pyspark.sql.types import StructType, StructField, StringType, IntegerType, DoubleType, BooleanType\n",
    "from pyspark.sql import SparkSession\n",
    "from sqlalchemy import create_engine\n",
    "import pandas as pd\n",
    "from sqlalchemy.dialects.postgresql import insert\n",
    "import psycopg2\n",
    "\n",
    "\n",
    "spark_session = SparkSession.builder \\\n",
    "    .appName(\"Ibge_silver\") \\\n",
    "    .config(\"spark.master\", \"local[*]\") \\\n",
    "    .config(\"spark.jars.packages\", \"org.postgresql:postgresql:42.7.1\") \\\n",
    "    .config(\"spark.executor.instances\", \"3\") \\\n",
    "    .getOrCreate()"
   ]
  },
  {
   "cell_type": "markdown",
   "id": "60fc0503",
   "metadata": {},
   "source": [
    "# PANDAS \n"
   ]
  },
  {
   "cell_type": "code",
   "execution_count": 36,
   "id": "3d1e5f52",
   "metadata": {},
   "outputs": [],
   "source": [
    "def call_upsert(table, conn, keys, data_iter):\n",
    "\n",
    "    data = [dict(zip(keys, row)) for row in data_iter]\n",
    "\n",
    "    insert_statement = insert(table.table).values(data)\n",
    "    upsert_statement = insert_statement.on_conflict_do_update(\n",
    "        constraint=f\"{table.table.name}_pkey\",\n",
    "        set_={c.key: c for c in insert_statement.excluded},\n",
    "    )\n",
    "\n",
    "    conn.execute(upsert_statement)"
   ]
  },
  {
   "cell_type": "markdown",
   "id": "ce5e5f84",
   "metadata": {},
   "source": [
    "# SQL CONNECTION"
   ]
  },
  {
   "cell_type": "code",
   "execution_count": 37,
   "id": "c85383ba",
   "metadata": {},
   "outputs": [
    {
     "name": "stdout",
     "output_type": "stream",
     "text": [
      "ibge\n"
     ]
    }
   ],
   "source": [
    "# Configurações de conexão com o PostgreSQL\n",
    "# Este item é totalmente editavel, para uma conexão de sua preferencia (Vamos fazer conforme o docker-compose que subimos)\n",
    "\n",
    "host = 'localhost'\n",
    "port = '8085'\n",
    "\n",
    "bronze_url = f\"jdbc:postgresql://{host}:{port}/bronze_data\"\n",
    "silver_url = f\"jdbc:postgresql://{host}:{port}/silver_data\"\n",
    "properties = {\"user\": \"ibge\", \"password\": \"ibge\", \"driver\": \"org.postgresql.Driver\"}\n",
    "\n",
    "print(properties['user'])\n",
    "\n",
    "# Criar um engine do SQLAlchemy\n",
    "bronze_engine = create_engine(f\"postgresql://{properties['user']}:{properties['password']}@{host}:{port}/bronze_data\")\n",
    "silver_engine = create_engine(f\"postgresql://{properties['user']}:{properties['password']}@{host}:{port}/silver_data\")\n",
    "\n"
   ]
  },
  {
   "cell_type": "markdown",
   "id": "affb8379",
   "metadata": {},
   "source": [
    "# REIGAO"
   ]
  },
  {
   "cell_type": "code",
   "execution_count": 38,
   "id": "e291ec54",
   "metadata": {},
   "outputs": [
    {
     "name": "stdout",
     "output_type": "stream",
     "text": [
      "UpInsert executado\n"
     ]
    }
   ],
   "source": [
    "# INSERÇÃO DA DIMENSÃO REGIÃO USANDO PANDAS\n",
    "\n",
    "query = 'SELECT id_regiao,  regiao FROM public.regiao'\n",
    "\n",
    "for data_frame in pd.read_sql(query,bronze_engine,chunksize=10000):\n",
    "    try:\n",
    "        pd.DataFrame(data_frame).to_sql(\n",
    "            'regiao', \n",
    "            silver_engine, \n",
    "            schema='public', \n",
    "            index=False, \n",
    "            if_exists=\"append\", \n",
    "            method=call_upsert\n",
    "        )\n",
    "        print(\"UpInsert executado\")\n",
    "    except Exception as e :\n",
    "        print(f'Exceção {str(e)}')            "
   ]
  },
  {
   "cell_type": "code",
   "execution_count": 39,
   "id": "a5edc0bf",
   "metadata": {},
   "outputs": [
    {
     "name": "stdout",
     "output_type": "stream",
     "text": [
      "UpInsert executado\n"
     ]
    }
   ],
   "source": [
    "# INSERÇÃO DA DIMENSÃO ESTADO USANDO PANDAS\n",
    "\n",
    "query = \"\"\"\n",
    "select\n",
    "\tid_estado,\n",
    "\tuf,\n",
    "\testado,\n",
    "\t1 as latitude,\n",
    "\t1 as longitude,\n",
    "\tid_regiao as id_regiao\n",
    "from\n",
    "\tpublic.estado\"\"\"\n",
    "\n",
    "for data_frame in pd.read_sql(query,bronze_engine,chunksize=10000):\n",
    "    try:\n",
    "        pd.DataFrame(data_frame).to_sql(\n",
    "            'estado', \n",
    "            silver_engine, \n",
    "            schema='public', \n",
    "            index=False, \n",
    "            if_exists=\"append\", \n",
    "            method=call_upsert\n",
    "        )\n",
    "        print(\"UpInsert executado\")\n",
    "    except Exception as e :\n",
    "        print(f'Exceção {str(e)}')      "
   ]
  },
  {
   "cell_type": "code",
   "execution_count": 40,
   "id": "42c5e09c",
   "metadata": {},
   "outputs": [
    {
     "name": "stdout",
     "output_type": "stream",
     "text": [
      "UpInsert executado\n"
     ]
    }
   ],
   "source": [
    "# INSERÇÃO DA DIMENSÃO ESTADO USANDO PANDAS\n",
    "\n",
    "sql_municipio = \"\"\"\n",
    "    select\n",
    "\tm.*,\n",
    "\tcase when c.capital is not null then true else false end as flag_capital\n",
    "from\n",
    "\tpublic.capitais c\n",
    "right join\n",
    "\tmunicipios m \n",
    "\ton\n",
    "\tc.uf = m.uf\n",
    "\tand c.capital = m.municipio\n",
    "\"\"\"\n",
    "for data_frame in pd.read_sql(sql_municipio,bronze_engine,chunksize=10000):\n",
    "    try:\n",
    "        pd.DataFrame(data_frame).to_sql(\n",
    "            'municipio', \n",
    "            silver_engine, \n",
    "            schema='public', \n",
    "            index=False, \n",
    "            if_exists=\"append\", \n",
    "            method=call_upsert\n",
    "        )\n",
    "        print(\"UpInsert executado\")\n",
    "    except Exception as e :\n",
    "        print(f'Exceção {str(e)}')   \n"
   ]
  },
  {
   "cell_type": "markdown",
   "id": "e74c9cd3",
   "metadata": {},
   "source": [
    "# PESQUISAS (leitura)"
   ]
  },
  {
   "cell_type": "code",
   "execution_count": 41,
   "id": "3b2ae729",
   "metadata": {},
   "outputs": [
    {
     "name": "stdout",
     "output_type": "stream",
     "text": [
      "+-----------+---------+---------+----+-----+\n",
      "|cd_pesquisa|municipio|cd_estado| ano|valor|\n",
      "+-----------+---------+---------+----+-----+\n",
      "|      30255|  3205309|       32|1991|0.505|\n",
      "|      30255|  3106200|       31|1991|0.478|\n",
      "|      30255|  3106200|       31|2000|0.624|\n",
      "|      30255|  4106902|       41|1991|0.507|\n",
      "|      30255|  3304557|       33|1991|0.573|\n",
      "|      30255|  3304557|       33|2000|0.664|\n",
      "|      30255|  3304557|       33|2010|0.761|\n",
      "|      30255|  3304557|       33|2012|0.762|\n",
      "|      30255|  3304557|       33|2013|0.768|\n",
      "|      30255|  3304557|       33|2014| 0.78|\n",
      "|      30255|  3304557|       33|2015|0.785|\n",
      "|      30255|  3304557|       33|2016|0.789|\n",
      "|      30255|  3304557|       33|2017|0.791|\n",
      "|      30255|  3304557|       33|2018|0.805|\n",
      "|      30255|  3304557|       33|2019|0.809|\n",
      "|      30255|  3304557|       33|2020|0.785|\n",
      "|      30255|  3304557|       33|2021|0.762|\n",
      "|      30255|  2800308|       28|1991|0.408|\n",
      "|      30255|  3550308|       35|1991|0.578|\n",
      "|      30255|  3550308|       35|2000|0.702|\n",
      "+-----------+---------+---------+----+-----+\n",
      "only showing top 20 rows\n",
      "\n"
     ]
    }
   ],
   "source": [
    "# IDH\n",
    "\n",
    "df_pesquisas_idh = spark_session.read.format(\"jdbc\") \\\n",
    "    .option(\"url\", bronze_url) \\\n",
    "    .option(\"driver\", properties[\"driver\"]) \\\n",
    "    .option(\"dbtable\", \"pesquisas_idh\") \\\n",
    "    .option(\"user\", properties[\"user\"]) \\\n",
    "    .option(\"password\", properties[\"password\"]) \\\n",
    "    .load()\n",
    "\n",
    "# Definir a consulta SQL\n",
    "sql_query = \"\"\"\n",
    "    select\n",
    "\te.id_estado ,\n",
    "\tm.id_municipio as id_capital\n",
    "from\n",
    "\tpublic.capitais c\n",
    "inner join\n",
    "\tmunicipios m \n",
    "on\n",
    "\tc.uf = m.uf\n",
    "\tand c.capital = m.municipio\n",
    "inner join\n",
    "\tpublic.estado e \n",
    "on\n",
    "\tc.uf  = e.uf \n",
    "\"\"\"\n",
    "\n",
    "# Ler os dados do banco de dados usando Spark\n",
    "df_estado_municipio = spark_session.read.jdbc(url=bronze_url, table=f\"({sql_query}) as subquery\", properties=properties)\n",
    "\n",
    "# Mostrar o DataFrame resultante\n",
    "# Realize o left join\n",
    "df_idh_final = df_pesquisas_idh.join(\n",
    "    df_estado_municipio,\n",
    "    df_pesquisas_idh[\"cd_estado\"] == df_estado_municipio[\"id_estado\"],\n",
    "    how=\"left\"\n",
    ")\n",
    "\n",
    "df_idh_final = df_idh_final.select(\n",
    "    col('cd_pesquisa').astype(StringType()),\n",
    "    col('id_capital').alias('municipio').astype(IntegerType()),\n",
    "    col('cd_estado').astype(IntegerType()),\n",
    "    col('ano').astype(IntegerType()),\n",
    "    col('valor').astype(StringType())\n",
    ")\n",
    "\n",
    "\n",
    "df_idh_final.show()\n"
   ]
  },
  {
   "cell_type": "code",
   "execution_count": 42,
   "id": "ee89d8dc-0fb3-4bcf-b91d-7f544544c21b",
   "metadata": {},
   "outputs": [
    {
     "name": "stdout",
     "output_type": "stream",
     "text": [
      "+-----------+---------+---------+----+-----+\n",
      "|cd_pesquisa|municipio|cd_estado| ano|valor|\n",
      "+-----------+---------+---------+----+-----+\n",
      "|  9324_6579|  3100104|     NULL|2020| 7006|\n",
      "|  9324_6579|  3100203|     NULL|2020|23250|\n",
      "|  9324_6579|  3100302|     NULL|2020|13444|\n",
      "|  9324_6579|  3100401|     NULL|2020| 3994|\n",
      "|  9324_6579|  3100500|     NULL|2020| 9368|\n",
      "|  9324_6579|  3100609|     NULL|2020|13523|\n",
      "|  9324_6579|  3100708|     NULL|2020| 1992|\n",
      "|  9324_6579|  3100807|     NULL|2020| 4522|\n",
      "|  9324_6579|  3100906|     NULL|2020|19247|\n",
      "|  9324_6579|  3101003|     NULL|2020|13599|\n",
      "|  9324_6579|  3101102|     NULL|2020|25141|\n",
      "|  9324_6579|  3101201|     NULL|2020| 5976|\n",
      "|  9324_6579|  3101300|     NULL|2020| 2665|\n",
      "|  9324_6579|  3101409|     NULL|2020| 3011|\n",
      "|  9324_6579|  3101508|     NULL|2020|35401|\n",
      "|  9324_6579|  3101607|     NULL|2020|80494|\n",
      "|  9324_6579|  3101631|     NULL|2020| 6981|\n",
      "|  9324_6579|  3101706|     NULL|2020|42143|\n",
      "|  9324_6579|  3101805|     NULL|2020| 7436|\n",
      "|  9324_6579|  3101904|     NULL|2020|19958|\n",
      "+-----------+---------+---------+----+-----+\n",
      "only showing top 20 rows\n",
      "\n"
     ]
    }
   ],
   "source": [
    "# POPULACAO\n",
    "df_pesquisas_populacao = spark_session.read.format(\"jdbc\") \\\n",
    "    .option(\"url\", bronze_url) \\\n",
    "    .option(\"driver\", properties[\"driver\"]) \\\n",
    "    .option(\"dbtable\", \"pesquisas_populacao\") \\\n",
    "    .option(\"user\", properties[\"user\"]) \\\n",
    "    .option(\"password\", properties[\"password\"]) \\\n",
    "    .load()\n",
    "\n",
    "df_pesquisas_populacao = df_pesquisas_populacao.select(\n",
    "    col('cd_pesquisa').astype(StringType()),\n",
    "    col('municipio').astype(IntegerType()),\n",
    "    lit(None).alias('cd_estado').astype(IntegerType()),\n",
    "    col('ano').astype(IntegerType()),\n",
    "    col('valor').astype(StringType())\n",
    ")\n",
    "\n",
    "df_pesquisas_populacao.show()"
   ]
  },
  {
   "cell_type": "code",
   "execution_count": 43,
   "id": "7da358ad-51b6-4bc3-8f24-bceae1bd8fa6",
   "metadata": {},
   "outputs": [
    {
     "name": "stdout",
     "output_type": "stream",
     "text": [
      "+-----------+---------+---------+----+---------+\n",
      "|cd_pesquisa|municipio|cd_estado| ano|    valor|\n",
      "+-----------+---------+---------+----+---------+\n",
      "|    37_5938|  5300108|     NULL|2019|273613711|\n",
      "|    37_5938|  5300108|     NULL|2020|265847334|\n",
      "|    37_5938|  5300108|     NULL|2021|286943782|\n",
      "|    37_5938|  2900108|     NULL|2019|    62610|\n",
      "|    37_5938|  2900207|     NULL|2019|   151220|\n",
      "|    37_5938|  2900306|     NULL|2019|   126737|\n",
      "|    37_5938|  2900355|     NULL|2019|   173041|\n",
      "|    37_5938|  2900405|     NULL|2019|   129713|\n",
      "|    37_5938|  2900504|     NULL|2019|    65747|\n",
      "|    37_5938|  2900603|     NULL|2019|    45792|\n",
      "|    37_5938|  2900702|     NULL|2019|  4349226|\n",
      "|    37_5938|  2900801|     NULL|2019|   290438|\n",
      "|    37_5938|  2900900|     NULL|2019|    53031|\n",
      "|    37_5938|  2901007|     NULL|2019|   398310|\n",
      "|    37_5938|  2901106|     NULL|2019|   340719|\n",
      "|    37_5938|  2901155|     NULL|2019|   133272|\n",
      "|    37_5938|  2901205|     NULL|2019|   184992|\n",
      "|    37_5938|  2901304|     NULL|2019|   110565|\n",
      "|    37_5938|  2901353|     NULL|2019|   183430|\n",
      "|    37_5938|  2901403|     NULL|2019|   141674|\n",
      "+-----------+---------+---------+----+---------+\n",
      "only showing top 20 rows\n",
      "\n"
     ]
    }
   ],
   "source": [
    "# PIB\n",
    "\n",
    "df_pesquisas_pib = spark_session.read.format(\"jdbc\") \\\n",
    "    .option(\"url\", bronze_url) \\\n",
    "    .option(\"driver\", properties[\"driver\"]) \\\n",
    "    .option(\"dbtable\", \"pesquisas_pib\") \\\n",
    "    .option(\"user\", properties[\"user\"]) \\\n",
    "    .option(\"password\", properties[\"password\"]) \\\n",
    "    .load()\n",
    "\n",
    "df_pesquisas_pib = df_pesquisas_pib.select(\n",
    "    col('cd_pesquisa').astype(StringType()),\n",
    "    col('municipio').astype(IntegerType()),\n",
    "    lit(None).alias('cd_estado').astype(IntegerType()),\n",
    "    col('ano').astype(IntegerType()),\n",
    "    col('valor').astype(StringType())\n",
    ")\n",
    "\n",
    "df_pesquisas_pib.show()"
   ]
  },
  {
   "cell_type": "markdown",
   "id": "840680d3",
   "metadata": {},
   "source": [
    "# Pesquisas (Tratamento)"
   ]
  },
  {
   "cell_type": "code",
   "execution_count": 44,
   "id": "fb820a42",
   "metadata": {},
   "outputs": [],
   "source": [
    "df_pesquisas = df_pesquisas_populacao.union(df_idh_final).union(df_pesquisas_pib)\n",
    "\n",
    "# Inserir no banco de dados usando o modo append\n",
    "# df_pesquisas.write \\\n",
    "#         .jdbc(url=silver_url, table=\"pesquisas\", mode=\"append\", properties=properties)\n",
    "\n",
    "df_pesquisas.write.format(\"jdbc\").option(\"url\", silver_url) \\\n",
    ".option(\"user\", \"ibge\") \\\n",
    ".option(\"password\", \"ibge\") \\\n",
    ".option(\"dbtable\", \"public.pesquisas\") \\\n",
    ".option(\"truncate\", True) \\\n",
    ".mode('overwrite') \\\n",
    ".save()\n",
    "\n",
    "\n",
    "\n"
   ]
  }
 ],
 "metadata": {
  "kernelspec": {
   "display_name": "Python 3 (ipykernel)",
   "language": "python",
   "name": "python3"
  },
  "language_info": {
   "codemirror_mode": {
    "name": "ipython",
    "version": 3
   },
   "file_extension": ".py",
   "mimetype": "text/x-python",
   "name": "python",
   "nbconvert_exporter": "python",
   "pygments_lexer": "ipython3",
   "version": "3.12.1"
  }
 },
 "nbformat": 4,
 "nbformat_minor": 5
}
